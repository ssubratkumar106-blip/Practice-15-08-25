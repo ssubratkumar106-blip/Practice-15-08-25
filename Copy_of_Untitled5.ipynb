{
  "nbformat": 4,
  "nbformat_minor": 0,
  "metadata": {
    "colab": {
      "provenance": [],
      "authorship_tag": "ABX9TyNCQyNnXnsZU3APWp2BK0W6",
      "include_colab_link": true
    },
    "kernelspec": {
      "name": "python3",
      "display_name": "Python 3"
    },
    "language_info": {
      "name": "python"
    }
  },
  "cells": [
    {
      "cell_type": "markdown",
      "metadata": {
        "id": "view-in-github",
        "colab_type": "text"
      },
      "source": [
        "<a href=\"https://colab.research.google.com/github/ssubratkumar106-blip/Practice-15-08-25/blob/main/Copy_of_Untitled5.ipynb\" target=\"_parent\"><img src=\"https://colab.research.google.com/assets/colab-badge.svg\" alt=\"Open In Colab\"/></a>"
      ]
    },
    {
      "cell_type": "code",
      "execution_count": null,
      "metadata": {
        "id": "IK2CbRHVrO3F"
      },
      "outputs": [],
      "source": [
        "import math\n",
        "def sigmoid(x):\n",
        "  return 1/(1+math.exp(-x))"
      ]
    },
    {
      "cell_type": "code",
      "source": [
        "sigmoid(100)"
      ],
      "metadata": {
        "colab": {
          "base_uri": "https://localhost:8080/"
        },
        "id": "bB9bv-Ans3wO",
        "outputId": "12238ff0-ef95-49a9-aae5-9e42f636b272"
      },
      "execution_count": null,
      "outputs": [
        {
          "output_type": "execute_result",
          "data": {
            "text/plain": [
              "1.0"
            ]
          },
          "metadata": {},
          "execution_count": 13
        }
      ]
    },
    {
      "cell_type": "code",
      "source": [
        "sigmoid(1)"
      ],
      "metadata": {
        "colab": {
          "base_uri": "https://localhost:8080/"
        },
        "id": "euLritYftEXR",
        "outputId": "03a94cd0-50d0-4cb0-db78-09bf79e18034"
      },
      "execution_count": null,
      "outputs": [
        {
          "output_type": "execute_result",
          "data": {
            "text/plain": [
              "0.7310585786300049"
            ]
          },
          "metadata": {},
          "execution_count": 14
        }
      ]
    },
    {
      "cell_type": "code",
      "source": [
        "sigmoid(-2)"
      ],
      "metadata": {
        "colab": {
          "base_uri": "https://localhost:8080/"
        },
        "id": "MmIvtcMNtHI0",
        "outputId": "12988791-9200-4559-b1da-bed02aee0737"
      },
      "execution_count": null,
      "outputs": [
        {
          "output_type": "execute_result",
          "data": {
            "text/plain": [
              "0.11920292202211755"
            ]
          },
          "metadata": {},
          "execution_count": 15
        }
      ]
    },
    {
      "cell_type": "code",
      "source": [
        "def tanh(x):\n",
        "  return (math.exp(x) - math.exp(-x)) / (math.exp(x) + math.exp(-x))"
      ],
      "metadata": {
        "id": "sFfHsfGttMwY"
      },
      "execution_count": null,
      "outputs": []
    },
    {
      "cell_type": "code",
      "source": [
        "tanh(-56)"
      ],
      "metadata": {
        "id": "hAKlkMZMttVR",
        "outputId": "ec5e386f-a456-4ab3-a1f0-918bf4bea572",
        "colab": {
          "base_uri": "https://localhost:8080/"
        }
      },
      "execution_count": null,
      "outputs": [
        {
          "output_type": "execute_result",
          "data": {
            "text/plain": [
              "-1.0"
            ]
          },
          "metadata": {},
          "execution_count": 17
        }
      ]
    },
    {
      "cell_type": "code",
      "source": [
        "tanh(50)"
      ],
      "metadata": {
        "id": "iD82hzrmtxzZ",
        "outputId": "5f47139f-601f-40f6-94f6-61980281ccc2",
        "colab": {
          "base_uri": "https://localhost:8080/"
        }
      },
      "execution_count": null,
      "outputs": [
        {
          "output_type": "execute_result",
          "data": {
            "text/plain": [
              "1.0"
            ]
          },
          "metadata": {},
          "execution_count": 18
        }
      ]
    },
    {
      "cell_type": "code",
      "source": [
        "def relu(x):\n",
        "  return max(0,x)"
      ],
      "metadata": {
        "id": "y8RCGubfuHwO"
      },
      "execution_count": null,
      "outputs": []
    },
    {
      "cell_type": "code",
      "source": [
        "relu(-7)"
      ],
      "metadata": {
        "id": "qWIzLgj2uNaV",
        "outputId": "324fe80a-0afa-4079-c0c7-8e32157c779a",
        "colab": {
          "base_uri": "https://localhost:8080/"
        }
      },
      "execution_count": null,
      "outputs": [
        {
          "output_type": "execute_result",
          "data": {
            "text/plain": [
              "0"
            ]
          },
          "metadata": {},
          "execution_count": 20
        }
      ]
    },
    {
      "cell_type": "code",
      "source": [
        "relu(6)"
      ],
      "metadata": {
        "id": "QiQzG2sauVwu",
        "outputId": "50705005-2342-4e85-8fe5-04a66965a573",
        "colab": {
          "base_uri": "https://localhost:8080/"
        }
      },
      "execution_count": null,
      "outputs": [
        {
          "output_type": "execute_result",
          "data": {
            "text/plain": [
              "6"
            ]
          },
          "metadata": {},
          "execution_count": 11
        },
        {
          "output_type": "execute_result",
          "data": {
            "text/plain": [
              "6"
            ]
          },
          "metadata": {},
          "execution_count": 21
        }
      ]
    },
    {
      "cell_type": "code",
      "source": [
        "def leaky_relu(x):\n",
        "  return max(0.1*x,x)"
      ],
      "metadata": {
        "id": "n_TLdYOuu8K3"
      },
      "execution_count": null,
      "outputs": []
    },
    {
      "cell_type": "code",
      "source": [
        "leaky_relu(-100)"
      ],
      "metadata": {
        "id": "ikocpu9evGJn",
        "outputId": "3cb58142-91ed-46e5-ede0-479240139b1f",
        "colab": {
          "base_uri": "https://localhost:8080/"
        }
      },
      "execution_count": null,
      "outputs": [
        {
          "output_type": "execute_result",
          "data": {
            "text/plain": [
              "-10.0"
            ]
          },
          "metadata": {},
          "execution_count": 23
        }
      ]
    },
    {
      "cell_type": "code",
      "source": [
        "leaky_relu(8)"
      ],
      "metadata": {
        "id": "Yz4ucGsdvUO9",
        "outputId": "9b758f1e-7b7d-42eb-a82f-13c07efdfbf3",
        "colab": {
          "base_uri": "https://localhost:8080/"
        }
      },
      "execution_count": null,
      "outputs": [
        {
          "output_type": "execute_result",
          "data": {
            "text/plain": [
              "8"
            ]
          },
          "metadata": {},
          "execution_count": 25
        }
      ]
    },
    {
      "cell_type": "markdown",
      "source": [
        "import numpy as np"
      ],
      "metadata": {
        "id": "FbZ7gfAFvdOK"
      }
    },
    {
      "cell_type": "code",
      "source": [
        "import numpy as np"
      ],
      "metadata": {
        "id": "5BZ5U1PjyBKb"
      },
      "execution_count": null,
      "outputs": []
    },
    {
      "cell_type": "code",
      "source": [
        "revenue = np.array([[180,200,220],[24,36,40],[12,18,20]])\n",
        "expenses = np.array([[80,90,100],[10,16,20],[8,10,10]])"
      ],
      "metadata": {
        "id": "Ffsh5GvyyERM"
      },
      "execution_count": null,
      "outputs": []
    },
    {
      "cell_type": "code",
      "source": [
        "profit = revenue - expenses\n",
        "profit"
      ],
      "metadata": {
        "id": "D2Dy9W-hym3s",
        "outputId": "0d971fe5-c96a-42e6-ece0-fc5066474012",
        "colab": {
          "base_uri": "https://localhost:8080/"
        }
      },
      "execution_count": null,
      "outputs": [
        {
          "output_type": "execute_result",
          "data": {
            "text/plain": [
              "array([[100, 110, 120],\n",
              "       [ 14,  20,  20],\n",
              "       [  4,   8,  10]])"
            ]
          },
          "metadata": {},
          "execution_count": 29
        }
      ]
    },
    {
      "cell_type": "code",
      "source": [
        "price_per_unit = np.array([1000,400,1200])\n",
        "units = np.array([[30,40,50],[5,10,15],[2,5,7]])"
      ],
      "metadata": {
        "id": "DeVO9RMSyu7I"
      },
      "execution_count": null,
      "outputs": []
    },
    {
      "cell_type": "code",
      "source": [
        "np.dot(price_per_unit,units)"
      ],
      "metadata": {
        "id": "DMftqFpXy__Q",
        "outputId": "acc0c47c-68a8-4500-c90f-0bd496579f26",
        "colab": {
          "base_uri": "https://localhost:8080/"
        }
      },
      "execution_count": null,
      "outputs": [
        {
          "output_type": "execute_result",
          "data": {
            "text/plain": [
              "array([34400, 50000, 64400])"
            ]
          },
          "metadata": {},
          "execution_count": 32
        }
      ]
    },
    {
      "cell_type": "code",
      "source": [
        "y_predicted = np.array([1,1,0,0,1])\n",
        "y_true = np.array([0.30,0.7,1,0,0.5])"
      ],
      "metadata": {
        "id": "3VNPVeDXzDVX"
      },
      "execution_count": null,
      "outputs": []
    },
    {
      "cell_type": "code",
      "source": [
        "def mae(y_true,y_predicted):\n",
        "  total_error = 0\n",
        "  for yt,yp in zip(y_true, y_predicted):\n",
        "    print(yt,yp)"
      ],
      "metadata": {
        "id": "wEFLU3zJ1fk3"
      },
      "execution_count": null,
      "outputs": []
    },
    {
      "cell_type": "code",
      "source": [
        "mae(y_true,y_predicted)"
      ],
      "metadata": {
        "id": "but-bvlr17D_",
        "outputId": "b8a15c0b-c723-46a1-c017-d273d55633d6",
        "colab": {
          "base_uri": "https://localhost:8080/"
        }
      },
      "execution_count": null,
      "outputs": [
        {
          "output_type": "stream",
          "name": "stdout",
          "text": [
            "0.3 1\n",
            "0.7 1\n",
            "1.0 0\n",
            "0.0 0\n",
            "0.5 1\n"
          ]
        }
      ]
    },
    {
      "cell_type": "code",
      "source": [
        "def mae(y_true,y_predicted):\n",
        "  total_error = 0\n",
        "  for yt,yp in zip(y_true, y_predicted):\n",
        "    total_error += abs(yt-yp)\n",
        "    print(total_error)\n",
        "    mae = total_error/len(y_true)\n",
        "    print(mae)\n",
        "    return mae"
      ],
      "metadata": {
        "id": "uG7oq0Ks16Sn"
      },
      "execution_count": null,
      "outputs": []
    },
    {
      "cell_type": "code",
      "source": [
        "mae(y_true,y_predicted)"
      ],
      "metadata": {
        "id": "hd5nVdGg2vSJ",
        "outputId": "c087b7ab-35b4-4b65-84e1-8c15fc4b3f6c",
        "colab": {
          "base_uri": "https://localhost:8080/"
        }
      },
      "execution_count": null,
      "outputs": [
        {
          "output_type": "stream",
          "name": "stdout",
          "text": [
            "0.7\n",
            "0.13999999999999999\n"
          ]
        },
        {
          "output_type": "execute_result",
          "data": {
            "text/plain": [
              "np.float64(0.13999999999999999)"
            ]
          },
          "metadata": {},
          "execution_count": 40
        }
      ]
    },
    {
      "cell_type": "code",
      "source": [
        "np.mean(np.abs(y_predicted - y_true))"
      ],
      "metadata": {
        "id": "vVl7P42Q228W",
        "outputId": "750fe749-21cb-4615-bd74-1ef736571803",
        "colab": {
          "base_uri": "https://localhost:8080/"
        }
      },
      "execution_count": null,
      "outputs": [
        {
          "output_type": "execute_result",
          "data": {
            "text/plain": [
              "np.float64(0.5)"
            ]
          },
          "metadata": {},
          "execution_count": 41
        }
      ]
    },
    {
      "cell_type": "code",
      "source": [
        "np.log([0.000000000000000000000000000000000000000000000000000000001])"
      ],
      "metadata": {
        "id": "Tv42BuFA3K6t",
        "outputId": "3a0f3240-28aa-4e43-cc41-b34a7997a605",
        "colab": {
          "base_uri": "https://localhost:8080/"
        }
      },
      "execution_count": null,
      "outputs": [
        {
          "output_type": "execute_result",
          "data": {
            "text/plain": [
              "array([-131.2473503])"
            ]
          },
          "metadata": {},
          "execution_count": 42
        }
      ]
    },
    {
      "cell_type": "code",
      "source": [
        "epsilon = 1e-15"
      ],
      "metadata": {
        "id": "QvVQbcY53a9M"
      },
      "execution_count": null,
      "outputs": []
    },
    {
      "cell_type": "code",
      "source": [
        "y_predicted_new = [max(i,epsilon) for i in y_predicted]\n",
        "y_predicted_new"
      ],
      "metadata": {
        "id": "yFEhjIfu3pPJ",
        "outputId": "f4f4f585-ec25-4c0d-c052-4fe0a1bfea52",
        "colab": {
          "base_uri": "https://localhost:8080/"
        }
      },
      "execution_count": null,
      "outputs": [
        {
          "output_type": "execute_result",
          "data": {
            "text/plain": [
              "[np.int64(1), np.int64(1), 1e-15, 1e-15, np.int64(1)]"
            ]
          },
          "metadata": {},
          "execution_count": 45
        }
      ]
    },
    {
      "cell_type": "code",
      "source": [
        "y_predicted_new = [min(i,1-epsilon) for i in y_predicted_new]\n",
        "y_predicted_new\n"
      ],
      "metadata": {
        "id": "NrDOCBNv32Yj",
        "outputId": "52524175-7863-4e95-c0cf-a953ee17c55e",
        "colab": {
          "base_uri": "https://localhost:8080/"
        }
      },
      "execution_count": null,
      "outputs": [
        {
          "output_type": "execute_result",
          "data": {
            "text/plain": [
              "[0.999999999999999, 0.999999999999999, 1e-15, 1e-15, 0.999999999999999]"
            ]
          },
          "metadata": {},
          "execution_count": 46
        }
      ]
    },
    {
      "cell_type": "code",
      "source": [
        "y_predicted_new = np.array(y_predicted_new)\n",
        "np.log(y_predicted_new)\n"
      ],
      "metadata": {
        "id": "m-oaq8FS36ub",
        "outputId": "5ec9aaeb-a30f-41af-92b3-2d80c6092559",
        "colab": {
          "base_uri": "https://localhost:8080/"
        }
      },
      "execution_count": null,
      "outputs": [
        {
          "output_type": "execute_result",
          "data": {
            "text/plain": [
              "array([-9.99200722e-16, -9.99200722e-16, -3.45387764e+01, -3.45387764e+01,\n",
              "       -9.99200722e-16])"
            ]
          },
          "metadata": {},
          "execution_count": 47
        }
      ]
    },
    {
      "cell_type": "code",
      "source": [
        "np.log(y_predicted)"
      ],
      "metadata": {
        "id": "VPbB4TLW4HiO",
        "outputId": "d7d1b173-6a9c-41ce-b1ca-fb4a41aa01b6",
        "colab": {
          "base_uri": "https://localhost:8080/"
        }
      },
      "execution_count": null,
      "outputs": [
        {
          "output_type": "stream",
          "name": "stderr",
          "text": [
            "/tmp/ipython-input-815880036.py:1: RuntimeWarning: divide by zero encountered in log\n",
            "  np.log(y_predicted)\n"
          ]
        },
        {
          "output_type": "execute_result",
          "data": {
            "text/plain": [
              "array([  0.,   0., -inf, -inf,   0.])"
            ]
          },
          "metadata": {},
          "execution_count": 48
        }
      ]
    },
    {
      "cell_type": "code",
      "source": [
        "-np.mean(y_true*np.log(y_predicted_new)+(1-y_true)*np.log(1-y_predicted_new))"
      ],
      "metadata": {
        "id": "Cs5gNW5M4Mu4",
        "outputId": "0fa7fdf7-5ddc-490c-e1e8-5d53317c2557",
        "colab": {
          "base_uri": "https://localhost:8080/"
        }
      },
      "execution_count": null,
      "outputs": [
        {
          "output_type": "execute_result",
          "data": {
            "text/plain": [
              "np.float64(17.2696280766844)"
            ]
          },
          "metadata": {},
          "execution_count": 49
        }
      ]
    },
    {
      "cell_type": "code",
      "source": [
        "def log_loss(y_true, y_predicted):\n",
        "    epsilon = 1e-15\n",
        "\n",
        "    y_predicted_new = [max(i,epsilon) for i in y_predicted]\n",
        "    y_predicted_new = [min(i,1-epsilon) for i in y_predicted_new]\n",
        "    y_predicted_new = np.array(y_predicted_new)\n",
        "    return -np.mean(y_true*np.log(y_predicted_new)+(1-y_true)*np.log(1-y_predicted_new))\n"
      ],
      "metadata": {
        "id": "hPlDEhi84bOW"
      },
      "execution_count": null,
      "outputs": []
    },
    {
      "cell_type": "code",
      "source": [
        "log_loss(y_true,y_predicted)"
      ],
      "metadata": {
        "id": "S2P5DmR_4-TW",
        "outputId": "7dd00cca-b92f-4eae-87b8-551d1400b45b",
        "colab": {
          "base_uri": "https://localhost:8080/"
        }
      },
      "execution_count": null,
      "outputs": [
        {
          "output_type": "execute_result",
          "data": {
            "text/plain": [
              "np.float64(17.2696280766844)"
            ]
          },
          "metadata": {},
          "execution_count": 51
        }
      ]
    }
  ]
}